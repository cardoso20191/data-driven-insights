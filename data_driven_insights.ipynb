{
  "nbformat": 4,
  "nbformat_minor": 0,
  "metadata": {
    "colab": {
      "provenance": [],
      "collapsed_sections": [
        "2OrnhJF0a8Gd"
      ],
      "authorship_tag": "ABX9TyOQM5L27AX7RKeJNBCB9v2M",
      "include_colab_link": true
    },
    "kernelspec": {
      "name": "python3",
      "display_name": "Python 3"
    },
    "language_info": {
      "name": "python"
    }
  },
  "cells": [
    {
      "cell_type": "markdown",
      "metadata": {
        "id": "view-in-github",
        "colab_type": "text"
      },
      "source": [
        "<a href=\"https://colab.research.google.com/github/cardoso20191/data-driven-insights/blob/main/data_driven_insights.ipynb\" target=\"_parent\"><img src=\"https://colab.research.google.com/assets/colab-badge.svg\" alt=\"Open In Colab\"/></a>"
      ]
    },
    {
      "cell_type": "markdown",
      "source": [
        "# Mini Projeto - Data-Drive Insights (Mód.01)\n",
        "## 📶Análise Exploratória - Estudante de Matemática"
      ],
      "metadata": {
        "id": "DY4TQzQ0G262"
      }
    },
    {
      "cell_type": "markdown",
      "source": [
        "####⚠️ 1. Instalando as Bibliotecas necessárias para uso na análise.\n",
        "Pandas, Numpy e matplotli.pysplot"
      ],
      "metadata": {
        "id": "2OrnhJF0a8Gd"
      }
    },
    {
      "cell_type": "code",
      "source": [
        "#Instalando o Pandas\n",
        "%pip install pandas"
      ],
      "metadata": {
        "colab": {
          "base_uri": "https://localhost:8080/"
        },
        "id": "WhYhJTxbbEnG",
        "outputId": "7c56afc0-8332-4f2a-a588-6bb95343c438"
      },
      "execution_count": 1,
      "outputs": [
        {
          "output_type": "stream",
          "name": "stdout",
          "text": [
            "Requirement already satisfied: pandas in /usr/local/lib/python3.11/dist-packages (2.2.2)\n",
            "Requirement already satisfied: numpy>=1.23.2 in /usr/local/lib/python3.11/dist-packages (from pandas) (2.0.2)\n",
            "Requirement already satisfied: python-dateutil>=2.8.2 in /usr/local/lib/python3.11/dist-packages (from pandas) (2.9.0.post0)\n",
            "Requirement already satisfied: pytz>=2020.1 in /usr/local/lib/python3.11/dist-packages (from pandas) (2025.2)\n",
            "Requirement already satisfied: tzdata>=2022.7 in /usr/local/lib/python3.11/dist-packages (from pandas) (2025.2)\n",
            "Requirement already satisfied: six>=1.5 in /usr/local/lib/python3.11/dist-packages (from python-dateutil>=2.8.2->pandas) (1.17.0)\n"
          ]
        }
      ]
    },
    {
      "cell_type": "code",
      "source": [
        "#Instalando o Numpy\n",
        "%pip install Numpy"
      ],
      "metadata": {
        "colab": {
          "base_uri": "https://localhost:8080/"
        },
        "id": "RUihQcWwcMsw",
        "outputId": "3aae03df-3220-4482-f2f0-2c329cd3cae5"
      },
      "execution_count": 2,
      "outputs": [
        {
          "output_type": "stream",
          "name": "stdout",
          "text": [
            "Requirement already satisfied: Numpy in /usr/local/lib/python3.11/dist-packages (2.0.2)\n"
          ]
        }
      ]
    },
    {
      "cell_type": "code",
      "source": [
        "#Instalando o matplotlib.pyplot\n",
        "%pip install matplotlib"
      ],
      "metadata": {
        "colab": {
          "base_uri": "https://localhost:8080/"
        },
        "id": "EaBhDz3Fcbfy",
        "outputId": "95a9a97c-d0f8-417d-c2ba-93de70f1df2c"
      },
      "execution_count": 4,
      "outputs": [
        {
          "output_type": "stream",
          "name": "stdout",
          "text": [
            "Requirement already satisfied: matplotlib in /usr/local/lib/python3.11/dist-packages (3.10.0)\n",
            "Requirement already satisfied: contourpy>=1.0.1 in /usr/local/lib/python3.11/dist-packages (from matplotlib) (1.3.2)\n",
            "Requirement already satisfied: cycler>=0.10 in /usr/local/lib/python3.11/dist-packages (from matplotlib) (0.12.1)\n",
            "Requirement already satisfied: fonttools>=4.22.0 in /usr/local/lib/python3.11/dist-packages (from matplotlib) (4.59.0)\n",
            "Requirement already satisfied: kiwisolver>=1.3.1 in /usr/local/lib/python3.11/dist-packages (from matplotlib) (1.4.8)\n",
            "Requirement already satisfied: numpy>=1.23 in /usr/local/lib/python3.11/dist-packages (from matplotlib) (2.0.2)\n",
            "Requirement already satisfied: packaging>=20.0 in /usr/local/lib/python3.11/dist-packages (from matplotlib) (25.0)\n",
            "Requirement already satisfied: pillow>=8 in /usr/local/lib/python3.11/dist-packages (from matplotlib) (11.3.0)\n",
            "Requirement already satisfied: pyparsing>=2.3.1 in /usr/local/lib/python3.11/dist-packages (from matplotlib) (3.2.3)\n",
            "Requirement already satisfied: python-dateutil>=2.7 in /usr/local/lib/python3.11/dist-packages (from matplotlib) (2.9.0.post0)\n",
            "Requirement already satisfied: six>=1.5 in /usr/local/lib/python3.11/dist-packages (from python-dateutil>=2.7->matplotlib) (1.17.0)\n"
          ]
        }
      ]
    },
    {
      "cell_type": "markdown",
      "source": [
        "### 🐼2. Importando as bibliotecas bases  para o projeto\n",
        "(Pandas, Numpy e Matplotlib.pyplot)"
      ],
      "metadata": {
        "id": "zBtMl62wHbIe"
      }
    },
    {
      "cell_type": "code",
      "source": [
        "import pandas as pd\n",
        "import numpy as np\n",
        "import matplotlib.pyplot as plt"
      ],
      "metadata": {
        "id": "K3966ocxHvWI"
      },
      "execution_count": 6,
      "outputs": []
    },
    {
      "cell_type": "markdown",
      "source": [
        "###📊3. Carregamento da Base a partir do arquivo disponibilizado no ambiente do Colab\n",
        "####Base extraida do site: https://archive.ics.uci.edu/dataset/320/student+performance - arquivo (student-mat)"
      ],
      "metadata": {
        "id": "knRO-mC8I-uo"
      }
    },
    {
      "cell_type": "code",
      "execution_count": 7,
      "metadata": {
        "id": "FR6VDopOGUUh"
      },
      "outputs": [],
      "source": [
        "df = pd.read_csv('student-mat.csv', sep=';') #A fnção sep está sendo usada para informar que o separador do data set é \";\""
      ]
    },
    {
      "cell_type": "markdown",
      "source": [
        "####4. Para realizar uma boa análise é importante conhecer a base, abaixo iremos conhecer a estrutura de nosso data set a partir das funções head(), shape, columns, e dtypes.\n",
        "O objetivo e podermos ter uma visão do que temos para realizar nossa análise exploratória e obter insights."
      ],
      "metadata": {
        "id": "-8ABSyYCMZzA"
      }
    },
    {
      "cell_type": "code",
      "source": [
        "print(df.head()) #Função utilizada para apresentar o cabeçalho por padrão ele retorna as 5 primeiras linhas."
      ],
      "metadata": {
        "colab": {
          "base_uri": "https://localhost:8080/"
        },
        "id": "W_KwNowkMhOR",
        "outputId": "507d1863-1c0e-4bf8-8966-f743767f008f"
      },
      "execution_count": 46,
      "outputs": [
        {
          "output_type": "stream",
          "name": "stdout",
          "text": [
            "  school sex  age address famsize Pstatus  Medu  Fedu     Mjob      Fjob  ...  \\\n",
            "0     GP   F   18       U     GT3       A     4     4  at_home   teacher  ...   \n",
            "1     GP   F   17       U     GT3       T     1     1  at_home     other  ...   \n",
            "2     GP   F   15       U     LE3       T     1     1  at_home     other  ...   \n",
            "3     GP   F   15       U     GT3       T     4     2   health  services  ...   \n",
            "4     GP   F   16       U     GT3       T     3     3    other     other  ...   \n",
            "\n",
            "  freetime goout  Dalc  Walc  health absences  G1  G2  G3 Diferenca  \n",
            "0        3     4     1     1       3        6   5   6   6        -1  \n",
            "1        3     3     1     1       3        4   5   5   6        -1  \n",
            "2        3     2     2     3       3       10   7   8  10        -3  \n",
            "3        2     2     1     1       5        2  15  14  15         0  \n",
            "4        3     2     1     2       5        4   6  10  10        -4  \n",
            "\n",
            "[5 rows x 34 columns]\n"
          ]
        }
      ]
    },
    {
      "cell_type": "code",
      "source": [
        "print(df.shape) # A função shape nos retorna o total de linhas e colunas nosso data set possui"
      ],
      "metadata": {
        "colab": {
          "base_uri": "https://localhost:8080/"
        },
        "id": "t5WG2Qu9RIZz",
        "outputId": "f7afed08-a70b-4c4b-d273-3e433ef07c71"
      },
      "execution_count": 9,
      "outputs": [
        {
          "output_type": "stream",
          "name": "stdout",
          "text": [
            "(395, 33)\n"
          ]
        }
      ]
    },
    {
      "cell_type": "code",
      "source": [
        "#print(df.columns) #A função columns nos retorna o nome das colunas do data set\n",
        "\n",
        "for col in df.columns:\n",
        "  print(col)"
      ],
      "metadata": {
        "colab": {
          "base_uri": "https://localhost:8080/"
        },
        "id": "KPatNhG_aCjC",
        "outputId": "93dbccdf-02ff-48cb-d3b3-95dd3c48b1cf"
      },
      "execution_count": 10,
      "outputs": [
        {
          "output_type": "stream",
          "name": "stdout",
          "text": [
            "school\n",
            "sex\n",
            "age\n",
            "address\n",
            "famsize\n",
            "Pstatus\n",
            "Medu\n",
            "Fedu\n",
            "Mjob\n",
            "Fjob\n",
            "reason\n",
            "guardian\n",
            "traveltime\n",
            "studytime\n",
            "failures\n",
            "schoolsup\n",
            "famsup\n",
            "paid\n",
            "activities\n",
            "nursery\n",
            "higher\n",
            "internet\n",
            "romantic\n",
            "famrel\n",
            "freetime\n",
            "goout\n",
            "Dalc\n",
            "Walc\n",
            "health\n",
            "absences\n",
            "G1\n",
            "G2\n",
            "G3\n"
          ]
        }
      ]
    },
    {
      "cell_type": "code",
      "source": [
        "print(df.dtypes)\n",
        "#A função dtypes nos retorna o tipo de dado de cada coluna,\n",
        "#Identificamos que as notas atribuidas são apenas do tipo int, com isso um aluno sómente recebe uma nota 1 a 10 exclusivamente."
      ],
      "metadata": {
        "colab": {
          "base_uri": "https://localhost:8080/"
        },
        "id": "G8nvts8jaTi7",
        "outputId": "9ce07dcc-bb3a-41ea-aa17-574f0ff3079f"
      },
      "execution_count": 11,
      "outputs": [
        {
          "output_type": "stream",
          "name": "stdout",
          "text": [
            "school        object\n",
            "sex           object\n",
            "age            int64\n",
            "address       object\n",
            "famsize       object\n",
            "Pstatus       object\n",
            "Medu           int64\n",
            "Fedu           int64\n",
            "Mjob          object\n",
            "Fjob          object\n",
            "reason        object\n",
            "guardian      object\n",
            "traveltime     int64\n",
            "studytime      int64\n",
            "failures       int64\n",
            "schoolsup     object\n",
            "famsup        object\n",
            "paid          object\n",
            "activities    object\n",
            "nursery       object\n",
            "higher        object\n",
            "internet      object\n",
            "romantic      object\n",
            "famrel         int64\n",
            "freetime       int64\n",
            "goout          int64\n",
            "Dalc           int64\n",
            "Walc           int64\n",
            "health         int64\n",
            "absences       int64\n",
            "G1             int64\n",
            "G2             int64\n",
            "G3             int64\n",
            "dtype: object\n"
          ]
        }
      ]
    },
    {
      "cell_type": "markdown",
      "source": [
        "# 4.1. Listas, Dicionários e Tuplas\n",
        "Obtendo os primeiros insights"
      ],
      "metadata": {
        "id": "53uCCblWgu1m"
      }
    },
    {
      "cell_type": "code",
      "source": [
        "# Lista: Coluna de texto/categórica\n",
        "##Extraido uma coluna de interesse em uma lista Python e realizado um loop imprimindo informações sobre cada item.\n",
        "\n",
        "failures = list(df['failures'])\n",
        "for failure in failures[:10]:\n",
        "    print(f\"Quantidade de Repovações:{failure}\")"
      ],
      "metadata": {
        "colab": {
          "base_uri": "https://localhost:8080/"
        },
        "id": "RtamQWHBhU6I",
        "outputId": "1663f6b7-8c36-44f1-8742-97b8db141819"
      },
      "execution_count": 14,
      "outputs": [
        {
          "output_type": "stream",
          "name": "stdout",
          "text": [
            "Quantidade de Repovações: 0\n",
            "Quantidade de Repovações: 0\n",
            "Quantidade de Repovações: 3\n",
            "Quantidade de Repovações: 0\n",
            "Quantidade de Repovações: 0\n",
            "Quantidade de Repovações: 0\n",
            "Quantidade de Repovações: 0\n",
            "Quantidade de Repovações: 0\n",
            "Quantidade de Repovações: 0\n",
            "Quantidade de Repovações: 0\n"
          ]
        }
      ]
    },
    {
      "cell_type": "code",
      "source": [
        "# Dicionário: chave e valor, exemplo (nome:categoria)\n",
        "# Dicionário relacionando dois campos importantes da base (ex: produto:categoria, filme:gênero, aluno:disciplina) e exiba 3 pares.\n",
        "# Como as chaves em um dicionário são únicas, se houver repetição (como 0 ou 1 mais de uma vez), o último valor substitui os anteriores.\n",
        "# Por este motivo mesmo solicitando todas as linhas, note que não imprime todas, a alternativa seria usar uma lista de tuplas\n",
        "\n",
        "dicionario = dict(zip(df['failures'][:395], df['sex'][:395]))\n",
        "print(dicionario)"
      ],
      "metadata": {
        "colab": {
          "base_uri": "https://localhost:8080/"
        },
        "id": "AnGjbejRkps3",
        "outputId": "cde1a8fa-abf3-402c-ac6b-d9bc8fc04e69"
      },
      "execution_count": 22,
      "outputs": [
        {
          "output_type": "stream",
          "name": "stdout",
          "text": [
            "{0: 'M', 3: 'M', 2: 'M', 1: 'F'}\n"
          ]
        }
      ]
    },
    {
      "cell_type": "code",
      "source": [
        "# Tupla: informações de uma linha, aqui podemos visualizar os mesmo dados anteriores repetido mesmo tendo valores repetidos.\n",
        "\n",
        "linha20 = df.iloc[20] #Nesta tupla estamos usando a função 'iloc' para informar a linha que queremos imprimir  a partir do indice '20'\n",
        "minha_tupla = (linha20['failures'], linha20['sex'], linha20['absences']) # Sendo assim irá imprimir os dados das colunas \"failures\", \"sex\" e \"absences\"\n",
        "print(minha_tupla)"
      ],
      "metadata": {
        "colab": {
          "base_uri": "https://localhost:8080/"
        },
        "id": "YxIKZMHYoke_",
        "outputId": "1c678999-9fba-4f51-afa7-594992849463"
      },
      "execution_count": 26,
      "outputs": [
        {
          "output_type": "stream",
          "name": "stdout",
          "text": [
            "(np.int64(0), 'M', np.int64(0))\n"
          ]
        }
      ]
    },
    {
      "cell_type": "markdown",
      "source": [
        "#4.2. Estruturas Condicionais e Laços"
      ],
      "metadata": {
        "id": "BW7HmfDXqd1N"
      }
    },
    {
      "cell_type": "code",
      "source": [
        "# Utilizando (if/elif/else) para saber se a partir de um indice o aluno pode ser considerado reprovado se absences >= 8, em recuparação se absences >7 e aprovado se não atender aos criterios.\n",
        "\n",
        "absences = 'absences'\n",
        "primeiro_valor = df[absences][2] #A partir de um indice para avaliar a situação do aluno a partir da frequência (absences)\n",
        "\n",
        "if primeiro_valor > 8 :\n",
        "    print(\"Reprovado\")\n",
        "elif primeiro_valor > 7:\n",
        "    print(\"Recuperação\")\n",
        "else:\n",
        "    print(\"Aprovado\")"
      ],
      "metadata": {
        "colab": {
          "base_uri": "https://localhost:8080/"
        },
        "id": "WHfEnHJGqn-f",
        "outputId": "75d8f260-1d1c-4941-80ea-a57d56519d0f"
      },
      "execution_count": 32,
      "outputs": [
        {
          "output_type": "stream",
          "name": "stdout",
          "text": [
            "Aprovado\n"
          ]
        }
      ]
    },
    {
      "cell_type": "code",
      "source": [
        "# Utilizando For para operar sobre n primeiros elementos de uma coluna numérica escolhida\n",
        "soma = 0\n",
        "lista = list(df[absences][:395]) #Somando o total de faltas de todos os alunos\n",
        "for n in lista:\n",
        "    soma += n\n",
        "print(\"Soma de todas as ausencias:\", soma)"
      ],
      "metadata": {
        "colab": {
          "base_uri": "https://localhost:8080/"
        },
        "id": "hisvL9s0tPV5",
        "outputId": "2e9216b8-bdf8-46eb-84b5-55a3fc1981be"
      },
      "execution_count": 35,
      "outputs": [
        {
          "output_type": "stream",
          "name": "stdout",
          "text": [
            "Soma de todas as ausencias: 2255\n"
          ]
        }
      ]
    },
    {
      "cell_type": "code",
      "source": [
        "# Utilizando While para encontrar o primeiro valor maior que um certo limite, definido de acordo com os dados\n",
        "\n",
        "limite = 6\n",
        "i = 0\n",
        "while i < len(lista) and lista[i] <= limite:\n",
        "    i += 1\n",
        "if i < len(lista):\n",
        "    print(\"Primeiro valor >\", limite, \"encontrado:\", lista[i])\n",
        "else:\n",
        "    print(\"Nenhum valor maior que\", limite, \"encontrado nos primeiros 5.\")"
      ],
      "metadata": {
        "colab": {
          "base_uri": "https://localhost:8080/"
        },
        "id": "r9juO4hHtvgf",
        "outputId": "3277b9cb-4aac-4b02-a13a-451e897766fd"
      },
      "execution_count": 43,
      "outputs": [
        {
          "output_type": "stream",
          "name": "stdout",
          "text": [
            "Primeiro valor > 6 encontrado: 10\n"
          ]
        }
      ]
    },
    {
      "cell_type": "markdown",
      "source": [
        "4.3. Operadores Aritméticos e Manipulação de Dados"
      ],
      "metadata": {
        "id": "8JJ-KP4QvsJW"
      }
    },
    {
      "cell_type": "code",
      "source": [
        "#Calculando a diferença entre a primeira nota G1 e a terceira G3.\n",
        "if 'G1' in df.columns and 'G3' in df.columns:\n",
        "    df['Diferenca'] = df['G1'] - df['G3']\n",
        "    print(df[['G1', 'G3', 'Diferenca']].head())"
      ],
      "metadata": {
        "colab": {
          "base_uri": "https://localhost:8080/"
        },
        "id": "FvB6wMSnv0AG",
        "outputId": "62e42a34-8d39-4d37-e1bb-e0aa9efc02ad"
      },
      "execution_count": 45,
      "outputs": [
        {
          "output_type": "stream",
          "name": "stdout",
          "text": [
            "   G1  G3  Diferenca\n",
            "0   5   6         -1\n",
            "1   5   6         -1\n",
            "2   7  10         -3\n",
            "3  15  15          0\n",
            "4   6  10         -4\n"
          ]
        }
      ]
    },
    {
      "cell_type": "code",
      "source": [
        "# Exemplo: ausencias com desconto, considerando possível realização de trabalhos para compensar faltas.\n",
        "\n",
        "if 'absences' in df.columns:\n",
        "    df['Desconto'] = df['absences'] * 0.9\n",
        "    print(df[['absences', 'Desconto']].head())"
      ],
      "metadata": {
        "colab": {
          "base_uri": "https://localhost:8080/"
        },
        "id": "dBpn40hhxzAT",
        "outputId": "89518c66-f048-4524-f890-deefe49e9e43"
      },
      "execution_count": 47,
      "outputs": [
        {
          "output_type": "stream",
          "name": "stdout",
          "text": [
            "   absences  Desconto\n",
            "0         6       5.4\n",
            "1         4       3.6\n",
            "2        10       9.0\n",
            "3         2       1.8\n",
            "4         4       3.6\n"
          ]
        }
      ]
    },
    {
      "cell_type": "markdown",
      "source": [
        "#5. NumPy e Arrays Numéricos"
      ],
      "metadata": {
        "id": "gZdP1Lkxy5tt"
      }
    },
    {
      "cell_type": "code",
      "source": [
        "# Crie um array NumPy a partir de uma coluna numérica da base.\n",
        "# Realize pelo menos duas operações vetorizadas com esse array (ex: somar, multiplicar, elevar ao quadrado elementos).\n",
        "# Mostre como acessar, modificar e exibir partes do array (fatiamento/slicing ou indexação).\n",
        "# Mostre como fazer uma operação agregada, como soma ou média, sobre o array.#\n",
        "\n",
        "array = np.array(df['absences'])\n",
        "\n",
        "# Operações NumPy\n",
        "array_somado = array + 10\n",
        "array_quadrado = array ** 2\n",
        "\n",
        "print(array[:5])\n",
        "print(array_somado[:5])\n",
        "print(array_quadrado[:5])\n",
        "\n",
        "print(\"Soma dos elementos:\", array.sum())\n",
        "print(\"Média dos elementos:\", round(array.mean(),1)) #Utilizado o round para limitar as casas decimais."
      ],
      "metadata": {
        "colab": {
          "base_uri": "https://localhost:8080/"
        },
        "id": "10VvDoS1y_dQ",
        "outputId": "80008763-5ce2-45ae-ec5f-9e696b814950"
      },
      "execution_count": 71,
      "outputs": [
        {
          "output_type": "stream",
          "name": "stdout",
          "text": [
            "[ 6  4 10  2  4]\n",
            "[16 14 20 12 14]\n",
            "[ 36  16 100   4  16]\n",
            "Soma dos elementos: 2255\n",
            "Média dos elementos: 5.7\n"
          ]
        }
      ]
    },
    {
      "cell_type": "markdown",
      "source": [
        "#6. Acesso e Manipulação de Dados com Pandas\n",
        "* Selecione linhas/colunas específicas usando .loc, .iloc ou filtrando por condição.\n",
        "* Use algum método de pandas para contar ou agrupar informações simples (ex: .value_counts(), .groupby()), mostrando o resultado em Markdown.\n",
        "* Crie uma pequena análise agregada interessante (ex: número de filmes por país, quantidade de alunos por escola, vendas por categoria)."
      ],
      "metadata": {
        "id": "U8HMlj5zzgyj"
      }
    },
    {
      "cell_type": "code",
      "source": [
        "# Selecione linhas/colunas específicas usando .loc, .iloc ou filtrando por condição. Assim podemos visualizar as ausências baseado em sexo e idade\n",
        "absences = df.loc[df['absences'] > 8, ['sex', 'age']]\n",
        "print(f\"Ausências - Sexo x Idade: {absences}\")"
      ],
      "metadata": {
        "colab": {
          "base_uri": "https://localhost:8080/"
        },
        "id": "RYyKoCeWzvJi",
        "outputId": "c5d1c71f-147e-4128-878a-df699f6ac0c4"
      },
      "execution_count": 52,
      "outputs": [
        {
          "output_type": "stream",
          "name": "stdout",
          "text": [
            "Ausências - Sexo x Idade:     sex  age\n",
            "2     F   15\n",
            "5     M   16\n",
            "18    M   17\n",
            "25    F   16\n",
            "29    M   16\n",
            "..   ..  ...\n",
            "369   F   18\n",
            "373   F   17\n",
            "379   F   17\n",
            "384   M   18\n",
            "390   M   20\n",
            "\n",
            "[86 rows x 2 columns]\n"
          ]
        }
      ]
    },
    {
      "cell_type": "markdown",
      "source": [
        "#7. Visualização de Dados\n",
        "* Obrigatório gerar pelo menos 1 gráfico de cada tipo básico:\n",
        " * Gráfico de Linha: ilustrando tendências/séries temporais quando possível.\n",
        "  * Gráfico de Barras: comparando categorias relevantes.\n",
        "  * Gráfico de Dispersão: mostrando a relação entre duas variáveis numéricas.\n",
        "* Se algum dos gráficos não for aplicável à sua base, crie (ou simule) dados para mostrar que compreendeu o recurso.\n",
        "* Para cada gráfico, escreva em Markdown um comentário sobre o que ele mostra."
      ],
      "metadata": {
        "id": "QQOmFMo_2BEx"
      }
    },
    {
      "cell_type": "code",
      "source": [
        "# Gráfico de Linha (ex: evolução temporal; use 'Data' se houver)\n",
        "if 'age' in df.columns and 'absences' in df.columns:\n",
        "    df.groupby('age')['absences'].sum().plot(kind='line')\n",
        "    plt.title('Absences por idade')\n",
        "    plt.xlabel('age')\n",
        "    plt.ylabel('absences')\n",
        "    plt.show()"
      ],
      "metadata": {
        "colab": {
          "base_uri": "https://localhost:8080/",
          "height": 472
        },
        "id": "rXp6UQAD2bsE",
        "outputId": "c97198c4-db50-4478-a7d4-bc4ff79fcf0e"
      },
      "execution_count": 72,
      "outputs": [
        {
          "output_type": "display_data",
          "data": {
            "text/plain": [
              "<Figure size 640x480 with 1 Axes>"
            ],
            "image/png": "[encoded data removed]"
          },
          "metadata": {}
        }
      ]
    },
    {
      "cell_type": "code",
      "source": [
        "# Gráfico de Barras (categorias)\n",
        "if 'sex' in df.columns and 'absences' in df.columns:\n",
        "    df.groupby('sex')['absences'].sum().plot(kind='bar')\n",
        "    plt.title('Total de faltas por \"sex\"')\n",
        "    plt.xlabel('sex')\n",
        "    plt.ylabel('absences')\n",
        "    plt.show()"
      ],
      "metadata": {
        "colab": {
          "base_uri": "https://localhost:8080/",
          "height": 470
        },
        "id": "xHyJlHq839j8",
        "outputId": "93d525b9-c8d1-4860-b8fa-5f3b3e9724f7"
      },
      "execution_count": 61,
      "outputs": [
        {
          "output_type": "display_data",
          "data": {
            "text/plain": [
              "<Figure size 640x480 with 1 Axes>"
            ],
            "image/png": "[encoded data removed]"
          },
          "metadata": {}
        }
      ]
    },
    {
      "cell_type": "code",
      "source": [
        "# Gráfico de Dispersão (duas numéricas)\n",
        "if 'absences' in df.columns and 'age' in df.columns:\n",
        "    plt.scatter(df['absences'], df['age'])\n",
        "    plt.title('Dispersão de \"absences\" por idade')\n",
        "    plt.xlabel('absences')\n",
        "    plt.ylabel('age')\n",
        "    plt.show()"
      ],
      "metadata": {
        "colab": {
          "base_uri": "https://localhost:8080/",
          "height": 472
        },
        "id": "P53xIsLn4l5P",
        "outputId": "2be4d057-d7f5-492e-8c76-94ebee7dc2ed"
      },
      "execution_count": 66,
      "outputs": [
        {
          "output_type": "display_data",
          "data": {
            "text/plain": [
              "<Figure size 640x480 with 1 Axes>"
            ],
            "image/png": "[encoded data removed]"
          },
          "metadata": {}
        }
      ]
    }
  ]
}